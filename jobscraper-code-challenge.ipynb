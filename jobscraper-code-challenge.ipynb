{
 "cells": [
  {
   "cell_type": "code",
   "execution_count": 1,
   "metadata": {},
   "outputs": [],
   "source": [
    "import requests\n",
    "from bs4 import BeautifulSoup"
   ]
  },
  {
   "cell_type": "code",
   "execution_count": 13,
   "metadata": {},
   "outputs": [
    {
     "name": "stdout",
     "output_type": "stream",
     "text": [
      "Scrapping https://remoteok.com/remote-ios-jobs...\n",
      "Scrapping https://remoteok.com/remote-flutter-jobs...\n",
      "Scrapping https://remoteok.com/remote-golang-jobs...\n"
     ]
    },
    {
     "data": {
      "text/plain": [
       "55"
      ]
     },
     "execution_count": 13,
     "metadata": {},
     "output_type": "execute_result"
    }
   ],
   "source": [
    "keywords = [\"ios\", \"flutter\", \"golang\"]\n",
    "all_jobs = []\n",
    "\n",
    "for keyword in keywords:\n",
    "    url = f\"https://remoteok.com/remote-{keyword}-jobs\"\n",
    "    print(f\"Scrapping {url}...\")\n",
    "    response = requests.get(\n",
    "        url,\n",
    "        headers={\n",
    "            \"User-Agent\": \"Mozilla/5.0 (Windows NT 10.0; Win64; x64) AppleWebKit/537.36 (KHTML, like Gecko) Chrome/124.0.0.0 Safari/537.36\"\n",
    "        },\n",
    "    )\n",
    "    soup = BeautifulSoup(\n",
    "        response.content,\n",
    "        \"html.parser\",\n",
    "    )\n",
    "    jobs = soup.find(\"table\", id=\"jobsboard\").find_all(\n",
    "        \"td\", class_=\"company position company_and_position\"\n",
    "    )[1:]\n",
    "\n",
    "    for job in jobs:\n",
    "        title = job.find(\"h2\", itemprop=\"title\")\n",
    "        company = job.find(\"h3\", itemprop=\"name\")\n",
    "        region = job.find(\"div\", class_=\"location\")\n",
    "        url_job = job.find(\"a\")[\"href\"]\n",
    "\n",
    "        job_data = {\n",
    "            \"title\": title.text,\n",
    "            \"company\": company.text,\n",
    "            \"region\": region.text,\n",
    "            \"url\": f\"https://remoteok.com{url_job}\",\n",
    "        }\n",
    "        all_jobs.append(job_data)\n",
    "\n",
    "len(all_jobs)"
   ]
  }
 ],
 "metadata": {
  "kernelspec": {
   "display_name": "webscraper",
   "language": "python",
   "name": "python3"
  },
  "language_info": {
   "codemirror_mode": {
    "name": "ipython",
    "version": 3
   },
   "file_extension": ".py",
   "mimetype": "text/x-python",
   "name": "python",
   "nbconvert_exporter": "python",
   "pygments_lexer": "ipython3",
   "version": "3.12.3"
  }
 },
 "nbformat": 4,
 "nbformat_minor": 2
}
