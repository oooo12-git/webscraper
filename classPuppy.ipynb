{
 "cells": [
  {
   "cell_type": "code",
   "execution_count": 1,
   "metadata": {},
   "outputs": [],
   "source": [
    "class animal:\n",
    "    def __init__(self, name, breed, weight, age):\n",
    "        self.name = name\n",
    "        self.breed = breed\n",
    "        self.weight = weight\n",
    "        self.age = age\n",
    "\n",
    "    def __str__(self):\n",
    "        return f\"name : {self.name}, breed: {self.breed}, weight : {self.weight}, age: {self.age}\\n\\n\"\n",
    "\n",
    "\n",
    "class MiddleAgedCat(animal):\n",
    "    def __init__(self, name, breed, weight):\n",
    "        super().__init__(name, breed, weight, 7)\n",
    "\n",
    "    def rrrrr(self):\n",
    "        print(\"Stay away! Kwang!\")\n",
    "\n",
    "\n",
    "class Puppy(animal):\n",
    "\n",
    "    def __init__(self, name, breed, weight):\n",
    "        super().__init__(name, breed, weight, 0.1)\n",
    "\n",
    "    def woof_woof(self):\n",
    "        print(\"woof woof!\")"
   ]
  },
  {
   "cell_type": "code",
   "execution_count": 2,
   "metadata": {},
   "outputs": [],
   "source": [
    "ruffus = Puppy(name=\"Ruffus\", breed=\"Beagle\", weight=4)\n",
    "bibi = Puppy(\"Bibi\", \"Poodle\", 5)\n",
    "bangja = MiddleAgedCat(\"Bangja\", \"korean shorthair\", 10)"
   ]
  },
  {
   "cell_type": "code",
   "execution_count": 5,
   "metadata": {},
   "outputs": [
    {
     "ename": "TypeError",
     "evalue": "'float' object is not callable",
     "output_type": "error",
     "traceback": [
      "\u001b[0;31m---------------------------------------------------------------------------\u001b[0m",
      "\u001b[0;31mTypeError\u001b[0m                                 Traceback (most recent call last)",
      "Cell \u001b[0;32mIn[5], line 1\u001b[0m\n\u001b[0;32m----> 1\u001b[0m \u001b[43mruffus\u001b[49m\u001b[38;5;241;43m.\u001b[39;49m\u001b[43mage\u001b[49m\u001b[43m(\u001b[49m\u001b[43m)\u001b[49m\n",
      "\u001b[0;31mTypeError\u001b[0m: 'float' object is not callable"
     ]
    }
   ],
   "source": [
    "ruffus.age()"
   ]
  },
  {
   "cell_type": "code",
   "execution_count": 18,
   "metadata": {},
   "outputs": [
    {
     "name": "stdout",
     "output_type": "stream",
     "text": [
      "name : Ruffus, breed: Beagle, weight : 4, age: 0.1\n",
      "\n",
      " name : Bibi, breed: Poodle, weight : 5, age: 0.1\n",
      "\n",
      " name : Bangja, breed: korean shorthair, weight : 10, age: 7\n",
      "\n",
      "\n"
     ]
    }
   ],
   "source": [
    "print(ruffus, bibi, bangja)"
   ]
  },
  {
   "cell_type": "code",
   "execution_count": 19,
   "metadata": {},
   "outputs": [
    {
     "name": "stdout",
     "output_type": "stream",
     "text": [
      "woof woof!\n"
     ]
    }
   ],
   "source": [
    "ruffus.woof_woof()"
   ]
  },
  {
   "cell_type": "code",
   "execution_count": 20,
   "metadata": {},
   "outputs": [
    {
     "name": "stdout",
     "output_type": "stream",
     "text": [
      "woof woof!\n"
     ]
    }
   ],
   "source": [
    "bibi.woof_woof()"
   ]
  },
  {
   "cell_type": "code",
   "execution_count": 21,
   "metadata": {},
   "outputs": [
    {
     "name": "stdout",
     "output_type": "stream",
     "text": [
      "Stay away! Kwang!\n"
     ]
    }
   ],
   "source": [
    "bangja.rrrrr()"
   ]
  }
 ],
 "metadata": {
  "kernelspec": {
   "display_name": "webscraper",
   "language": "python",
   "name": "python3"
  },
  "language_info": {
   "codemirror_mode": {
    "name": "ipython",
    "version": 3
   },
   "file_extension": ".py",
   "mimetype": "text/x-python",
   "name": "python",
   "nbconvert_exporter": "python",
   "pygments_lexer": "ipython3",
   "version": "3.12.3"
  }
 },
 "nbformat": 4,
 "nbformat_minor": 2
}
