{
 "cells": [
  {
   "cell_type": "code",
   "execution_count": 1,
   "metadata": {},
   "outputs": [],
   "source": [
    "import requests\n",
    "from bs4 import BeautifulSoup"
   ]
  },
  {
   "cell_type": "code",
   "execution_count": 13,
   "metadata": {},
   "outputs": [],
   "source": [
    "class keyword_scraper:\n",
    "    def __init__(self, keywords):\n",
    "        self.all_jobs = []\n",
    "        print(\"Welcome to the scraping world!\")\n",
    "        self.keywords = keywords  # list\n",
    "        print(f\"Selected Keyword is {keywords}\")\n",
    "        print(\"Let's Start!\")\n",
    "        for keyword in self.keywords:\n",
    "            self.scrap_one_keyword(keyword)\n",
    "        print(f\"Total amount of jobs number is {len(self.all_jobs)}\")\n",
    "\n",
    "    def scrap_one_keyword(self, one_keyword):\n",
    "        self.url = f\"https://remoteok.com/remote-{one_keyword}-jobs\"\n",
    "        print(f\"Scrapping {self.url}...\")\n",
    "        response = requests.get(\n",
    "            self.url,\n",
    "            headers={\n",
    "                \"User-Agent\": \"Mozilla/5.0 (Windows NT 10.0; Win64; x64) AppleWebKit/537.36 (KHTML, like Gecko) Chrome/124.0.0.0 Safari/537.36\"\n",
    "            },\n",
    "        )\n",
    "        soup = BeautifulSoup(\n",
    "            response.content,\n",
    "            \"html.parser\",\n",
    "        )\n",
    "        jobs = soup.find(\"table\", id=\"jobsboard\").find_all(\n",
    "            \"td\", class_=\"company position company_and_position\"\n",
    "        )[1:]\n",
    "        for job in jobs:\n",
    "            title = job.find(\"h2\", itemprop=\"title\")\n",
    "            company = job.find(\"h3\", itemprop=\"name\")\n",
    "            region = job.find(\"div\", class_=\"location\")\n",
    "            url_job = job.find(\"a\")[\"href\"]\n",
    "\n",
    "            job_data = {\n",
    "                \"title\": title.text,\n",
    "                \"company\": company.text,\n",
    "                \"region\": region.text,\n",
    "                \"url\": f\"https://remoteok.com{url_job}\",\n",
    "            }\n",
    "            self.all_jobs.append(job_data)\n",
    "        print(f\"Scrapping {self.url} is finished!\")\n",
    "\n",
    "    def scrap_result(self):\n",
    "        print(\"I will show you only 5 Results!\")\n",
    "        print(self.all_jobs[:5])"
   ]
  },
  {
   "cell_type": "code",
   "execution_count": 14,
   "metadata": {},
   "outputs": [
    {
     "name": "stdout",
     "output_type": "stream",
     "text": [
      "Welcome to the scraping world!\n",
      "Selected Keyword is ['flutter', 'ios', 'golang']\n",
      "Let's Start!\n",
      "Scrapping https://remoteok.com/remote-flutter-jobs...\n",
      "Scrapping https://remoteok.com/remote-flutter-jobs is finished!\n",
      "Scrapping https://remoteok.com/remote-ios-jobs...\n",
      "Scrapping https://remoteok.com/remote-ios-jobs is finished!\n",
      "Scrapping https://remoteok.com/remote-golang-jobs...\n",
      "Scrapping https://remoteok.com/remote-golang-jobs is finished!\n",
      "Total amount of jobs number is 55\n"
     ]
    }
   ],
   "source": [
    "scraping_machine_for_remoteok = keyword_scraper([\"flutter\", \"ios\", \"golang\"])"
   ]
  },
  {
   "cell_type": "code",
   "execution_count": 15,
   "metadata": {},
   "outputs": [
    {
     "name": "stdout",
     "output_type": "stream",
     "text": [
      "I will show you only 5 Results!\n",
      "[{'title': '\\nSr Flutter Engineer\\n', 'company': '\\nília ', 'region': '🇧🇷 Brazil', 'url': 'https://remoteok.com/remote-jobs/remote-sr-flutter-engineer-ilia-693865'}, {'title': '\\nSenior Mobile Engineer\\n', 'company': '\\nGlooko ', 'region': '🇭🇷 Croatia', 'url': 'https://remoteok.com/remote-jobs/remote-senior-mobile-engineer-glooko-645384'}, {'title': '\\nSenior Mobile Engineer Flutter\\n', 'company': '\\nTranscarent ', 'region': '🇺🇸 United States', 'url': 'https://remoteok.com/remote-jobs/remote-senior-mobile-engineer-flutter-transcarent-643158'}, {'title': '\\nSenior Flutter Engineer\\n', 'company': '\\nXMTP ', 'region': 'Worldwide', 'url': 'https://remoteok.com/remote-jobs/remote-senior-flutter-engineer-xmtp-638496'}, {'title': '\\nSenior Software Developer I\\n', 'company': '\\nSpring Health ', 'region': '🇺🇸 United States', 'url': 'https://remoteok.com/remote-jobs/remote-senior-software-developer-i-spring-health-615620'}]\n"
     ]
    }
   ],
   "source": [
    "scraping_machine_for_remoteok.scrap_result()"
   ]
  }
 ],
 "metadata": {
  "kernelspec": {
   "display_name": "webscraper",
   "language": "python",
   "name": "python3"
  },
  "language_info": {
   "codemirror_mode": {
    "name": "ipython",
    "version": 3
   },
   "file_extension": ".py",
   "mimetype": "text/x-python",
   "name": "python",
   "nbconvert_exporter": "python",
   "pygments_lexer": "ipython3",
   "version": "3.12.3"
  }
 },
 "nbformat": 4,
 "nbformat_minor": 2
}
